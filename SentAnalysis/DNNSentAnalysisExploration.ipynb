{
 "cells": [
  {
   "cell_type": "markdown",
   "metadata": {},
   "source": [
    "# Sentiment Analysis for Twitter Toolkit\n",
    "\n",
    "> Motivation  \n",
    "> How this script fits in the project  \n",
    "> Data Set  \n",
    "> Model Exploration  \n",
    " \n",
    "@Author: Robbie Li <liro@berkeley.edu>"
   ]
  },
  {
   "cell_type": "markdown",
   "metadata": {},
   "source": [
    "### Motivation\n",
    "\n",
    "At Twitter Toolkit, our goal is to create a Chrome extension to help the average Twitter user assess Tweets with a critical eye.   \n",
    "\n",
    "Not only are we interested in the validity and credibility of the information source (see work of my project teammates), we are also interested in the way the said information is used by the Twitter handle.  \n",
    "\n",
    "Specifically, this script aims to design a model that measures the level of manipulation of a text. \n",
    "\n",
    "    Ideally, this model will give  \n",
    "    1 for Tweets with high manipulation levels, say Russian Twitter accounts hacking the 2016 Elections  \n",
    "    0 for objective, critical, carefully qualified, say those by Nature \n",
    "    \n",
    "**Because manipulation is hard to quantify, I use a binary classification to proximate behavior patterns.**   \n",
    "\n",
    "   - I assume that Russian trolling Tweets are the epitome of text-based manipulation used in the political domain.   \n",
    "   - The more similar a Tweet is to a Russian troll, the more likely this Tweet is manipulative\n",
    "\n"
   ]
  },
  {
   "cell_type": "markdown",
   "metadata": {},
   "source": [
    "### How this script fits in the project"
   ]
  },
  {
   "cell_type": "markdown",
   "metadata": {},
   "source": [
    "### Data Set  \n",
    "- Training Set https://www.kaggle.com/vikasg/russian-troll-tweets 200,000 malicious account tweets captured by NBC\n",
    "- Test Set https://github.com/fivethirtyeight/russian-troll-tweets/ 3 million Russian troll tweets organized by FiveThirtyEight, not all in English"
   ]
  },
  {
   "cell_type": "code",
   "execution_count": null,
   "metadata": {},
   "outputs": [],
   "source": []
  },
  {
   "cell_type": "markdown",
   "metadata": {},
   "source": [
    "### Model Exploration"
   ]
  },
  {
   "cell_type": "code",
   "execution_count": null,
   "metadata": {},
   "outputs": [],
   "source": []
  },
  {
   "cell_type": "code",
   "execution_count": null,
   "metadata": {},
   "outputs": [],
   "source": []
  },
  {
   "cell_type": "markdown",
   "metadata": {},
   "source": [
    "### Research Sources: \n",
    "- https://www.sbir.gov/sbirsearch/detail/1532219 A grant application page, specifically for projects studying crowd manipulation on social media. Many useful links at the bottom. \n",
    "- https://blog.ycombinator.com/tracking-political-manipulation-through-social-media-samantha-bradshaw/ A great interview with Oxford researcher Samantha Bradshaw, who have been tracking political manipulation through social media for years.\n"
   ]
  },
  {
   "cell_type": "code",
   "execution_count": null,
   "metadata": {},
   "outputs": [],
   "source": []
  }
 ],
 "metadata": {
  "kernelspec": {
   "display_name": "Python 3",
   "language": "python",
   "name": "python3"
  },
  "language_info": {
   "codemirror_mode": {
    "name": "ipython",
    "version": 3
   },
   "file_extension": ".py",
   "mimetype": "text/x-python",
   "name": "python",
   "nbconvert_exporter": "python",
   "pygments_lexer": "ipython3",
   "version": "3.7.1"
  }
 },
 "nbformat": 4,
 "nbformat_minor": 2
}

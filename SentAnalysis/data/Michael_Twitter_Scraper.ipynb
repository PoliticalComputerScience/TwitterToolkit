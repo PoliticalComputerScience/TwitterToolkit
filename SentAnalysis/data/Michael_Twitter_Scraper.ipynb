{
 "cells": [
  {
   "cell_type": "markdown",
   "metadata": {
    "colab_type": "text",
    "id": "pHBz_qZtr5Wl"
   },
   "source": [
    "### Imports\n",
    "Install any packages that are not in the environment"
   ]
  },
  {
   "cell_type": "code",
   "execution_count": 3,
   "metadata": {
    "colab": {
     "base_uri": "https://localhost:8080/",
     "height": 343
    },
    "colab_type": "code",
    "id": "dkhr0Fxer5Wn",
    "outputId": "be5f35bf-0392-4c61-8e6e-d0c2c8e20193"
   },
   "outputs": [],
   "source": [
    "import sys\n",
    "import pandas as pd\n",
    "import datetime as dt\n",
    "import csv\n",
    "import re\n",
    "\n",
    "\n",
    "try:\n",
    "    from twitterscraper import query_tweets\n",
    "except:\n",
    "    !{sys.executable} -m pip install twitterscraper\n",
    "    from twitterscraper import query_tweets"
   ]
  },
  {
   "cell_type": "markdown",
   "metadata": {
    "colab_type": "text",
    "id": "WH1_-8mcr5Wt"
   },
   "source": [
    "# Search Parameters\n",
    "**Parameters:**:  \n",
    "search query (str),  \n",
    "limit (int)\n",
    "            begindate (dt.date),  \n",
    "            enddate (dt.date),  \n",
    "            poolisze (int),  \n",
    "            lang (str),  \n",
    "              \n",
    "For search query, refer to Twitter's search operators:   https://developer.twitter.com/en/docs/tweets/search/guides/standard-operators.html\n",
    "              \n"
   ]
  },
  {
   "cell_type": "code",
   "execution_count": 4,
   "metadata": {
    "colab": {
     "base_uri": "https://localhost:8080/",
     "height": 119
    },
    "colab_type": "code",
    "id": "2WI4pUhHr5Wu",
    "outputId": "415749a3-4305-449e-e06b-67a17496b357"
   },
   "outputs": [
    {
     "name": "stdout",
     "output_type": "stream",
     "text": [
      "Enter your search query.\n",
      "from:nytimes\n",
      "Enter the beginning date in YYYY-MM-DD format.\n",
      "2019-04-13\n",
      "Enter the end date in YYYY-MM-DD format.\n",
      "2019-04-14\n"
     ]
    }
   ],
   "source": [
    "query = input('Enter your search query.\\n')\n",
    "beginString = input('Enter the beginning date in YYYY-MM-DD format.\\n')\n",
    "\n",
    "beginYear, beginMonth, beginDay = map(int, beginString.split('-'))\n",
    "begindate = dt.date(beginYear, beginMonth, beginDay)\n",
    "\n",
    "endString = input('Enter the end date in YYYY-MM-DD format.\\n')\n",
    "\n",
    "endYear, endMonth, endDay = map(int, endString.split('-'))\n",
    "enddate = dt.date(endYear, endMonth, endDay)"
   ]
  },
  {
   "cell_type": "code",
   "execution_count": 5,
   "metadata": {
    "colab": {},
    "colab_type": "code",
    "id": "FRC-HHNS5biK"
   },
   "outputs": [
    {
     "data": {
      "text/plain": [
       "datetime.date(2019, 4, 13)"
      ]
     },
     "execution_count": 5,
     "metadata": {},
     "output_type": "execute_result"
    }
   ],
   "source": [
    "begindate"
   ]
  },
  {
   "cell_type": "markdown",
   "metadata": {
    "colab_type": "text",
    "id": "yIJejF5juyLr"
   },
   "source": [
    "## Abstracted Query  \n",
    "Performs query, adds the hashtag field, writes to csv file with name *output_name*\n"
   ]
  },
  {
   "cell_type": "code",
   "execution_count": 6,
   "metadata": {
    "colab": {
     "base_uri": "https://localhost:8080/",
     "height": 173
    },
    "colab_type": "code",
    "id": "uqHsccq1vD0P",
    "outputId": "e8918aef-3477-4efb-acc9-c01f054afbe8"
   },
   "outputs": [
    {
     "name": "stderr",
     "output_type": "stream",
     "text": [
      "INFO: queries: ['from:nytimes since:2019-04-13 until:2019-04-14']\n",
      "INFO: Querying from:nytimes since:2019-04-13 until:2019-04-14\n",
      "INFO: Got 90 tweets for from%3Anytimes%20since%3A2019-04-13%20until%3A2019-04-14.\n",
      "INFO: Got 90 tweets (90 new).\n"
     ]
    },
    {
     "name": "stdout",
     "output_type": "stream",
     "text": [
      "Done.\n"
     ]
    }
   ],
   "source": [
    "# clean user input\n",
    "\n",
    "\n",
    "\n",
    "def query_and_write(query, output_name, \n",
    "                      limit=None,\n",
    "                      begindate=dt.date(2006, 3, 21), \n",
    "                      enddate=dt.date.today(), \n",
    "                      poolsize=20, \n",
    "                      lang=''):\n",
    "  # perform query\n",
    "  tweets = query_tweets(query, limit, begindate, enddate, poolsize, lang)\n",
    "  # construct csv\n",
    "  if tweets:\n",
    "    with open(output_name, \"w\", encoding=\"utf-8\") as output:\n",
    "      f = csv.writer(output)\n",
    "      f.writerow([\"timestamp\", \"user\", \"fullname\", \"text\", \"hashtags\", \"id\", \"url\", \"retweets\", \"favorites\", \"replies\"])\n",
    "      for x in tweets:\n",
    "        # parse text for hashtags\n",
    "        tag_set = set(re.findall('\\#\\w+', x.text))\n",
    "        tag_values = \" \".join(tag_set)\n",
    "        # add row for tweet in csv\n",
    "        f.writerow([x.timestamp, x.user, x.fullname, x.text, tag_values, x.id, x.url, x.retweets, x.likes, x.replies])\n",
    "  return\n",
    "query_and_write(query=query, output_name='output.csv', limit=None, \n",
    "             begindate=begindate, \n",
    "             enddate=enddate)\n",
    "print(\"Done.\")"
   ]
  },
  {
   "cell_type": "code",
   "execution_count": 0,
   "metadata": {
    "colab": {},
    "colab_type": "code",
    "id": "Dw5VTeedFnhY"
   },
   "outputs": [],
   "source": []
  }
 ],
 "metadata": {
  "colab": {
   "name": "Michael - Twitter Scraper.ipynb",
   "provenance": [],
   "toc_visible": true,
   "version": "0.3.2"
  },
  "kernelspec": {
   "display_name": "Python 3",
   "language": "python",
   "name": "python3"
  },
  "language_info": {
   "codemirror_mode": {
    "name": "ipython",
    "version": 3
   },
   "file_extension": ".py",
   "mimetype": "text/x-python",
   "name": "python",
   "nbconvert_exporter": "python",
   "pygments_lexer": "ipython3",
   "version": "3.7.1"
  }
 },
 "nbformat": 4,
 "nbformat_minor": 1
}

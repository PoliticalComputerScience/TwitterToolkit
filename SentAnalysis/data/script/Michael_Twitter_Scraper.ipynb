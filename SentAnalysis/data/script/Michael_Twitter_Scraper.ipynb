{
 "cells": [
  {
   "cell_type": "markdown",
   "metadata": {
    "colab_type": "text",
    "id": "pHBz_qZtr5Wl"
   },
   "source": [
    "### Imports\n",
    "Install any packages that are not in the environment"
   ]
  },
  {
   "cell_type": "code",
   "execution_count": 1,
   "metadata": {
    "colab": {
     "base_uri": "https://localhost:8080/",
     "height": 343
    },
    "colab_type": "code",
    "id": "dkhr0Fxer5Wn",
    "outputId": "be5f35bf-0392-4c61-8e6e-d0c2c8e20193"
   },
   "outputs": [],
   "source": [
    "import sys\n",
    "import pandas as pd\n",
    "import datetime as dt\n",
    "import csv\n",
    "import re\n",
    "\n",
    "\n",
    "try:\n",
    "    from twitterscraper import query_tweets\n",
    "except:\n",
    "    !{sys.executable} -m pip install twitterscraper\n",
    "    from twitterscraper import query_tweets"
   ]
  },
  {
   "cell_type": "markdown",
   "metadata": {
    "colab_type": "text",
    "id": "WH1_-8mcr5Wt"
   },
   "source": [
    "# Search Parameters\n",
    "**Parameters:**:  \n",
    "search query (str),  \n",
    "limit (int)\n",
    "            begindate (dt.date),  \n",
    "            enddate (dt.date),  \n",
    "            poolisze (int),  \n",
    "            lang (str),  \n",
    "              \n",
    "For search query, refer to Twitter's search operators:   https://developer.twitter.com/en/docs/tweets/search/guides/standard-operators.html\n",
    "              \n"
   ]
  },
  {
   "cell_type": "code",
   "execution_count": 16,
   "metadata": {
    "colab": {
     "base_uri": "https://localhost:8080/",
     "height": 119
    },
    "colab_type": "code",
    "id": "2WI4pUhHr5Wu",
    "outputId": "415749a3-4305-449e-e06b-67a17496b357"
   },
   "outputs": [
    {
     "name": "stdout",
     "output_type": "stream",
     "text": [
      "Enter your search query.\n",
      "from:WPReview\n",
      "Enter the beginning date in YYYY-MM-DD format.\n",
      "2014-07-14\n",
      "Enter the end date in YYYY-MM-DD format.\n",
      "2016-09-26\n"
     ]
    }
   ],
   "source": [
    "query = input('Enter your search query.\\n')\n",
    "beginString = input('Enter the beginning date in YYYY-MM-DD format.\\n')\n",
    "\n",
    "beginYear, beginMonth, beginDay = map(int, beginString.split('-'))\n",
    "begindate = dt.date(beginYear, beginMonth, beginDay)\n",
    "\n",
    "endString = input('Enter the end date in YYYY-MM-DD format.\\n')\n",
    "\n",
    "endYear, endMonth, endDay = map(int, endString.split('-'))\n",
    "enddate = dt.date(endYear, endMonth, endDay)"
   ]
  },
  {
   "cell_type": "code",
   "execution_count": 17,
   "metadata": {
    "colab": {},
    "colab_type": "code",
    "id": "FRC-HHNS5biK"
   },
   "outputs": [
    {
     "data": {
      "text/plain": [
       "datetime.date(2014, 7, 14)"
      ]
     },
     "execution_count": 17,
     "metadata": {},
     "output_type": "execute_result"
    }
   ],
   "source": [
    "begindate"
   ]
  },
  {
   "cell_type": "markdown",
   "metadata": {
    "colab_type": "text",
    "id": "yIJejF5juyLr"
   },
   "source": [
    "## Abstracted Query  \n",
    "Performs query, adds the hashtag field, writes to csv file with name *output_name*\n"
   ]
  },
  {
   "cell_type": "code",
   "execution_count": 18,
   "metadata": {
    "colab": {
     "base_uri": "https://localhost:8080/",
     "height": 173
    },
    "colab_type": "code",
    "id": "uqHsccq1vD0P",
    "outputId": "e8918aef-3477-4efb-acc9-c01f054afbe8"
   },
   "outputs": [
    {
     "name": "stderr",
     "output_type": "stream",
     "text": [
      "INFO: queries: ['from:WPReview since:2014-07-14 until:2014-08-23', 'from:WPReview since:2014-08-23 until:2014-10-02', 'from:WPReview since:2014-10-02 until:2014-11-11', 'from:WPReview since:2014-11-11 until:2014-12-22', 'from:WPReview since:2014-12-22 until:2015-01-31', 'from:WPReview since:2015-01-31 until:2015-03-12', 'from:WPReview since:2015-03-12 until:2015-04-21', 'from:WPReview since:2015-04-21 until:2015-06-01', 'from:WPReview since:2015-06-01 until:2015-07-11', 'from:WPReview since:2015-07-11 until:2015-08-20', 'from:WPReview since:2015-08-20 until:2015-09-29', 'from:WPReview since:2015-09-29 until:2015-11-09', 'from:WPReview since:2015-11-09 until:2015-12-19', 'from:WPReview since:2015-12-19 until:2016-01-28', 'from:WPReview since:2016-01-28 until:2016-03-08', 'from:WPReview since:2016-03-08 until:2016-04-18', 'from:WPReview since:2016-04-18 until:2016-05-28', 'from:WPReview since:2016-05-28 until:2016-07-07', 'from:WPReview since:2016-07-07 until:2016-08-16', 'from:WPReview since:2016-08-16 until:2016-09-26']\n",
      "INFO: Querying from:WPReview since:2014-10-02 until:2014-11-11\n",
      "INFO: Querying from:WPReview since:2014-08-23 until:2014-10-02\n",
      "INFO: Querying from:WPReview since:2014-07-14 until:2014-08-23\n",
      "INFO: Querying from:WPReview since:2015-04-21 until:2015-06-01\n",
      "INFO: Querying from:WPReview since:2014-12-22 until:2015-01-31\n",
      "INFO: Querying from:WPReview since:2015-01-31 until:2015-03-12\n",
      "INFO: Querying from:WPReview since:2014-11-11 until:2014-12-22\n",
      "INFO: Querying from:WPReview since:2015-03-12 until:2015-04-21\n",
      "INFO: Querying from:WPReview since:2015-08-20 until:2015-09-29\n",
      "INFO: Querying from:WPReview since:2015-06-01 until:2015-07-11\n",
      "INFO: Querying from:WPReview since:2015-11-09 until:2015-12-19\n",
      "INFO: Querying from:WPReview since:2015-07-11 until:2015-08-20\n",
      "INFO: Querying from:WPReview since:2015-09-29 until:2015-11-09\n",
      "INFO: Querying from:WPReview since:2016-01-28 until:2016-03-08\n",
      "INFO: Querying from:WPReview since:2015-12-19 until:2016-01-28\n",
      "INFO: Querying from:WPReview since:2016-04-18 until:2016-05-28\n",
      "INFO: Querying from:WPReview since:2016-03-08 until:2016-04-18\n",
      "INFO: Querying from:WPReview since:2016-05-28 until:2016-07-07\n",
      "INFO: Querying from:WPReview since:2016-07-07 until:2016-08-16\n",
      "INFO: Querying from:WPReview since:2016-08-16 until:2016-09-26\n",
      "INFO: Got 288 tweets for from%3AWPReview%20since%3A2014-08-23%20until%3A2014-10-02.\n",
      "INFO: Got 288 tweets (288 new).\n",
      "INFO: Got 318 tweets for from%3AWPReview%20since%3A2014-11-11%20until%3A2014-12-22.\n",
      "INFO: Got 606 tweets (318 new).\n",
      "INFO: Got 302 tweets for from%3AWPReview%20since%3A2014-12-22%20until%3A2015-01-31.\n",
      "INFO: Got 908 tweets (302 new).\n",
      "INFO: Got 348 tweets for from%3AWPReview%20since%3A2014-10-02%20until%3A2014-11-11.\n",
      "INFO: Got 1256 tweets (348 new).\n",
      "INFO: Got 372 tweets for from%3AWPReview%20since%3A2014-07-14%20until%3A2014-08-23.\n",
      "INFO: Got 1628 tweets (372 new).\n",
      "INFO: Got 490 tweets for from%3AWPReview%20since%3A2015-01-31%20until%3A2015-03-12.\n",
      "INFO: Got 2118 tweets (490 new).\n",
      "INFO: Got 531 tweets for from%3AWPReview%20since%3A2015-08-20%20until%3A2015-09-29.\n",
      "INFO: Got 2649 tweets (531 new).\n",
      "INFO: Got 555 tweets for from%3AWPReview%20since%3A2015-12-19%20until%3A2016-01-28.\n",
      "INFO: Got 3204 tweets (555 new).\n",
      "INFO: Got 552 tweets for from%3AWPReview%20since%3A2015-03-12%20until%3A2015-04-21.\n",
      "INFO: Got 3756 tweets (552 new).\n",
      "INFO: Got 569 tweets for from%3AWPReview%20since%3A2015-11-09%20until%3A2015-12-19.\n",
      "INFO: Got 4325 tweets (569 new).\n",
      "INFO: Got 601 tweets for from%3AWPReview%20since%3A2015-09-29%20until%3A2015-11-09.\n",
      "INFO: Got 4926 tweets (601 new).\n",
      "INFO: Got 611 tweets for from%3AWPReview%20since%3A2016-01-28%20until%3A2016-03-08.\n",
      "INFO: Got 5537 tweets (611 new).\n",
      "INFO: Got 597 tweets for from%3AWPReview%20since%3A2015-07-11%20until%3A2015-08-20.\n",
      "INFO: Got 6134 tweets (597 new).\n",
      "INFO: Got 668 tweets for from%3AWPReview%20since%3A2015-06-01%20until%3A2015-07-11.\n",
      "INFO: Got 6802 tweets (668 new).\n",
      "INFO: Got 705 tweets for from%3AWPReview%20since%3A2016-03-08%20until%3A2016-04-18.\n",
      "INFO: Got 7507 tweets (705 new).\n",
      "INFO: Got 714 tweets for from%3AWPReview%20since%3A2016-04-18%20until%3A2016-05-28.\n",
      "INFO: Got 8221 tweets (714 new).\n",
      "INFO: Got 705 tweets for from%3AWPReview%20since%3A2015-04-21%20until%3A2015-06-01.\n",
      "INFO: Got 8926 tweets (705 new).\n",
      "INFO: Got 682 tweets for from%3AWPReview%20since%3A2016-05-28%20until%3A2016-07-07.\n",
      "INFO: Got 9608 tweets (682 new).\n",
      "INFO: Got 802 tweets for from%3AWPReview%20since%3A2016-08-16%20until%3A2016-09-26.\n",
      "INFO: Got 10410 tweets (802 new).\n",
      "INFO: Got 847 tweets for from%3AWPReview%20since%3A2016-07-07%20until%3A2016-08-16.\n",
      "INFO: Got 11257 tweets (847 new).\n"
     ]
    },
    {
     "name": "stdout",
     "output_type": "stream",
     "text": [
      "Done.\n"
     ]
    }
   ],
   "source": [
    "# clean user input\n",
    "\n",
    "\n",
    "\n",
    "def query_and_write(query, output_name, \n",
    "                      limit=None,\n",
    "                      begindate=dt.date(2006, 3, 21), \n",
    "                      enddate=dt.date.today(), \n",
    "                      poolsize=20, \n",
    "                      lang=''):\n",
    "  # perform query\n",
    "  tweets = query_tweets(query, limit, begindate, enddate, poolsize, lang)\n",
    "  # construct csv\n",
    "  if tweets:\n",
    "    with open(output_name, \"w\", encoding=\"utf-8\") as output:\n",
    "      f = csv.writer(output)\n",
    "      f.writerow([\"timestamp\", \"user\", \"fullname\", \"text\", \"hashtags\", \"id\", \"url\", \"retweets\", \"favorites\", \"replies\"])\n",
    "      for x in tweets:\n",
    "        # parse text for hashtags\n",
    "        tag_set = set(re.findall('\\#\\w+', x.text))\n",
    "        tag_values = \" \".join(tag_set)\n",
    "        # add row for tweet in csv\n",
    "        f.writerow([x.timestamp, x.user, x.fullname, x.text, tag_values, x.id, x.url, x.retweets, x.likes, x.replies])\n",
    "  return\n",
    "query_and_write(query=query, output_name='WPReview.csv', limit=None, \n",
    "             begindate=begindate, \n",
    "             enddate=enddate)\n",
    "print(\"Done.\")"
   ]
  },
  {
   "cell_type": "code",
   "execution_count": 0,
   "metadata": {
    "colab": {},
    "colab_type": "code",
    "id": "Dw5VTeedFnhY"
   },
   "outputs": [],
   "source": []
  }
 ],
 "metadata": {
  "colab": {
   "name": "Michael - Twitter Scraper.ipynb",
   "provenance": [],
   "toc_visible": true,
   "version": "0.3.2"
  },
  "kernelspec": {
   "display_name": "Python 3",
   "language": "python",
   "name": "python3"
  },
  "language_info": {
   "codemirror_mode": {
    "name": "ipython",
    "version": 3
   },
   "file_extension": ".py",
   "mimetype": "text/x-python",
   "name": "python",
   "nbconvert_exporter": "python",
   "pygments_lexer": "ipython3",
   "version": "3.7.1"
  }
 },
 "nbformat": 4,
 "nbformat_minor": 1
}
